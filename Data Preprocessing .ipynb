{
 "cells": [
  {
   "cell_type": "code",
   "execution_count": 2,
   "id": "faeac124",
   "metadata": {},
   "outputs": [],
   "source": [
    "import sys\n",
    "sys.path.append('/path/to/ffmpeg')"
   ]
  },
  {
   "cell_type": "code",
   "execution_count": 8,
   "id": "f1461ff0",
   "metadata": {},
   "outputs": [
    {
     "name": "stdout",
     "output_type": "stream",
     "text": [
      "Noise generation and mixing complete.\n"
     ]
    }
   ],
   "source": [
    "from pydub import AudioSegment\n",
    "import numpy as np\n",
    "import os\n",
    "import random\n",
    "\n",
    "# Paths to your clean speech and noise directories\n",
    "clean_speech_dir = '/Users/anude/Downloads/ARU_Speech_Corpus_v1'\n",
    "noise_dir = \"/Users/anude/Downloads/RIRS_NOISES/pointsource_noises\"\n",
    "output_dir = \"/Users/anude/Desktop/output\"\n",
    "\n",
    "\n",
    "# SNR levels to generate (e.g., -5 dB and 0 dB)\n",
    "snr_levels = [-5, 0]\n",
    "\n",
    "# Function to mix clean speech with noise at a specific SNR level\n",
    "def mix_audio(clean_audio, noise_audio, snr):\n",
    "    # Convert AudioSegment to numpy arrays\n",
    "    clean_array = np.array(clean_audio.get_array_of_samples())\n",
    "    noise_array = np.array(noise_audio.get_array_of_samples())\n",
    "    \n",
    "    # Calculate the scaling factor for noise to achieve the desired SNR\n",
    "    snr_ratio = 10 ** (snr / 10)\n",
    "    \n",
    "    # Ensure both arrays are the same length\n",
    "    min_length = min(len(clean_array), len(noise_array))\n",
    "    clean_array = clean_array[:min_length]\n",
    "    noise_array = noise_array[:min_length]\n",
    "    \n",
    "    # Scale the noise array to match the desired SNR\n",
    "    scaled_noise_array = clean_array + (noise_array * (1 / snr_ratio))\n",
    "    \n",
    "    # Convert the scaled array back to an AudioSegment\n",
    "    mixed_audio = AudioSegment(scaled_noise_array.tobytes(), frame_rate=clean_audio.frame_rate, sample_width=clean_audio.sample_width, channels=clean_audio.channels)\n",
    "    \n",
    "    return mixed_audio\n",
    "\n",
    "# Iterate through clean speech files\n",
    "for root, dirs, files in os.walk(clean_speech_dir):\n",
    "    for file in files:\n",
    "        if file.endswith(\".wav\"):\n",
    "            file_path = os.path.join(root, file)\n",
    "        clean_audio = AudioSegment.from_file(file_path)\n",
    "        \n",
    "        # Randomly select a noise file from the noise directory\n",
    "        noise_file = random.choice(os.listdir(noise_dir))\n",
    "        noise_audio = AudioSegment.from_file(os.path.join(noise_dir, noise_file), 'wav')\n",
    "\n",
    "        \n",
    "        # Generate noisy speech at multiple SNR levels\n",
    "        for snr in snr_levels:\n",
    "            mixed_audio = mix_audio(clean_audio, noise_audio, snr)\n",
    "            \n",
    "            # Define the output path for the noisy audio\n",
    "            output_path = os.path.join(output_dir, f\"SNR_{snr}dB\", file)\n",
    "            \n",
    "            # Create the output directory if it doesn't exist\n",
    "            os.makedirs(os.path.dirname(output_path), exist_ok=True)\n",
    "            \n",
    "            # Export the mixed audio as a WAV file\n",
    "            mixed_audio.export(output_path, format=\"wav\")\n",
    "\n",
    "print(\"Noise generation and mixing complete.\")\n"
   ]
  },
  {
   "cell_type": "code",
   "execution_count": 14,
   "id": "2cd8d050",
   "metadata": {},
   "outputs": [],
   "source": [
    "import shutil"
   ]
  },
  {
   "cell_type": "code",
   "execution_count": 13,
   "id": "7b1ae108",
   "metadata": {},
   "outputs": [
    {
     "ename": "FileNotFoundError",
     "evalue": "[Errno 2] No such file or directory: '/Users/anude/Desktop/output/SNR_0dB/.DS_Store'",
     "output_type": "error",
     "traceback": [
      "\u001b[0;31m---------------------------------------------------------------------------\u001b[0m",
      "\u001b[0;31mFileNotFoundError\u001b[0m                         Traceback (most recent call last)",
      "\u001b[0;32m/var/folders/ty/7rypvb7s5db0x57mscfglmym0000gn/T/ipykernel_58537/1309262084.py\u001b[0m in \u001b[0;36m<module>\u001b[0;34m\u001b[0m\n\u001b[1;32m     38\u001b[0m \u001b[0;34m\u001b[0m\u001b[0m\n\u001b[1;32m     39\u001b[0m         \u001b[0mshutil\u001b[0m\u001b[0;34m.\u001b[0m\u001b[0mcopy\u001b[0m\u001b[0;34m(\u001b[0m\u001b[0mclean_audio_path\u001b[0m\u001b[0;34m,\u001b[0m \u001b[0mclean_output_path\u001b[0m\u001b[0;34m)\u001b[0m\u001b[0;34m\u001b[0m\u001b[0;34m\u001b[0m\u001b[0m\n\u001b[0;32m---> 40\u001b[0;31m         \u001b[0mshutil\u001b[0m\u001b[0;34m.\u001b[0m\u001b[0mcopy\u001b[0m\u001b[0;34m(\u001b[0m\u001b[0mnoisy_audio_path\u001b[0m\u001b[0;34m,\u001b[0m \u001b[0mnoisy_output_path\u001b[0m\u001b[0;34m)\u001b[0m\u001b[0;34m\u001b[0m\u001b[0;34m\u001b[0m\u001b[0m\n\u001b[0m\u001b[1;32m     41\u001b[0m \u001b[0;34m\u001b[0m\u001b[0m\n\u001b[1;32m     42\u001b[0m \u001b[0mprint\u001b[0m\u001b[0;34m(\u001b[0m\u001b[0;34m\"Data splitting and organization complete.\"\u001b[0m\u001b[0;34m)\u001b[0m\u001b[0;34m\u001b[0m\u001b[0;34m\u001b[0m\u001b[0m\n",
      "\u001b[0;32m~/opt/anaconda3/lib/python3.9/shutil.py\u001b[0m in \u001b[0;36mcopy\u001b[0;34m(src, dst, follow_symlinks)\u001b[0m\n\u001b[1;32m    425\u001b[0m     \u001b[0;32mif\u001b[0m \u001b[0mos\u001b[0m\u001b[0;34m.\u001b[0m\u001b[0mpath\u001b[0m\u001b[0;34m.\u001b[0m\u001b[0misdir\u001b[0m\u001b[0;34m(\u001b[0m\u001b[0mdst\u001b[0m\u001b[0;34m)\u001b[0m\u001b[0;34m:\u001b[0m\u001b[0;34m\u001b[0m\u001b[0;34m\u001b[0m\u001b[0m\n\u001b[1;32m    426\u001b[0m         \u001b[0mdst\u001b[0m \u001b[0;34m=\u001b[0m \u001b[0mos\u001b[0m\u001b[0;34m.\u001b[0m\u001b[0mpath\u001b[0m\u001b[0;34m.\u001b[0m\u001b[0mjoin\u001b[0m\u001b[0;34m(\u001b[0m\u001b[0mdst\u001b[0m\u001b[0;34m,\u001b[0m \u001b[0mos\u001b[0m\u001b[0;34m.\u001b[0m\u001b[0mpath\u001b[0m\u001b[0;34m.\u001b[0m\u001b[0mbasename\u001b[0m\u001b[0;34m(\u001b[0m\u001b[0msrc\u001b[0m\u001b[0;34m)\u001b[0m\u001b[0;34m)\u001b[0m\u001b[0;34m\u001b[0m\u001b[0;34m\u001b[0m\u001b[0m\n\u001b[0;32m--> 427\u001b[0;31m     \u001b[0mcopyfile\u001b[0m\u001b[0;34m(\u001b[0m\u001b[0msrc\u001b[0m\u001b[0;34m,\u001b[0m \u001b[0mdst\u001b[0m\u001b[0;34m,\u001b[0m \u001b[0mfollow_symlinks\u001b[0m\u001b[0;34m=\u001b[0m\u001b[0mfollow_symlinks\u001b[0m\u001b[0;34m)\u001b[0m\u001b[0;34m\u001b[0m\u001b[0;34m\u001b[0m\u001b[0m\n\u001b[0m\u001b[1;32m    428\u001b[0m     \u001b[0mcopymode\u001b[0m\u001b[0;34m(\u001b[0m\u001b[0msrc\u001b[0m\u001b[0;34m,\u001b[0m \u001b[0mdst\u001b[0m\u001b[0;34m,\u001b[0m \u001b[0mfollow_symlinks\u001b[0m\u001b[0;34m=\u001b[0m\u001b[0mfollow_symlinks\u001b[0m\u001b[0;34m)\u001b[0m\u001b[0;34m\u001b[0m\u001b[0;34m\u001b[0m\u001b[0m\n\u001b[1;32m    429\u001b[0m     \u001b[0;32mreturn\u001b[0m \u001b[0mdst\u001b[0m\u001b[0;34m\u001b[0m\u001b[0;34m\u001b[0m\u001b[0m\n",
      "\u001b[0;32m~/opt/anaconda3/lib/python3.9/shutil.py\u001b[0m in \u001b[0;36mcopyfile\u001b[0;34m(src, dst, follow_symlinks)\u001b[0m\n\u001b[1;32m    262\u001b[0m         \u001b[0mos\u001b[0m\u001b[0;34m.\u001b[0m\u001b[0msymlink\u001b[0m\u001b[0;34m(\u001b[0m\u001b[0mos\u001b[0m\u001b[0;34m.\u001b[0m\u001b[0mreadlink\u001b[0m\u001b[0;34m(\u001b[0m\u001b[0msrc\u001b[0m\u001b[0;34m)\u001b[0m\u001b[0;34m,\u001b[0m \u001b[0mdst\u001b[0m\u001b[0;34m)\u001b[0m\u001b[0;34m\u001b[0m\u001b[0;34m\u001b[0m\u001b[0m\n\u001b[1;32m    263\u001b[0m     \u001b[0;32melse\u001b[0m\u001b[0;34m:\u001b[0m\u001b[0;34m\u001b[0m\u001b[0;34m\u001b[0m\u001b[0m\n\u001b[0;32m--> 264\u001b[0;31m         \u001b[0;32mwith\u001b[0m \u001b[0mopen\u001b[0m\u001b[0;34m(\u001b[0m\u001b[0msrc\u001b[0m\u001b[0;34m,\u001b[0m \u001b[0;34m'rb'\u001b[0m\u001b[0;34m)\u001b[0m \u001b[0;32mas\u001b[0m \u001b[0mfsrc\u001b[0m\u001b[0;34m:\u001b[0m\u001b[0;34m\u001b[0m\u001b[0;34m\u001b[0m\u001b[0m\n\u001b[0m\u001b[1;32m    265\u001b[0m             \u001b[0;32mtry\u001b[0m\u001b[0;34m:\u001b[0m\u001b[0;34m\u001b[0m\u001b[0;34m\u001b[0m\u001b[0m\n\u001b[1;32m    266\u001b[0m                 \u001b[0;32mwith\u001b[0m \u001b[0mopen\u001b[0m\u001b[0;34m(\u001b[0m\u001b[0mdst\u001b[0m\u001b[0;34m,\u001b[0m \u001b[0;34m'wb'\u001b[0m\u001b[0;34m)\u001b[0m \u001b[0;32mas\u001b[0m \u001b[0mfdst\u001b[0m\u001b[0;34m:\u001b[0m\u001b[0;34m\u001b[0m\u001b[0;34m\u001b[0m\u001b[0m\n",
      "\u001b[0;31mFileNotFoundError\u001b[0m: [Errno 2] No such file or directory: '/Users/anude/Desktop/output/SNR_0dB/.DS_Store'"
     ]
    }
   ],
   "source": [
    "import os\n",
    "import random\n",
    "import shutil\n",
    "\n",
    "# Paths to your data directories\n",
    "clean_speech_dir = '/Users/anude/Downloads/ARU_Speech_Corpus_v1'\n",
    "noisy_speech_dir = \"/Users/anude/Desktop/output/SNR_0dB\"\n",
    "output_dir = \"/Users/anude/Desktop/output\"\n",
    "\n",
    "# Split ratios\n",
    "train_ratio = 0.6\n",
    "validation_ratio = 0.2\n",
    "test_ratio = 0.2\n",
    "\n",
    "# Create directories for train, validation, and test sets\n",
    "for split in [\"train\", \"validation\", \"test\"]:\n",
    "    os.makedirs(os.path.join(output_dir, split, \"clean\"), exist_ok=True)\n",
    "    os.makedirs(os.path.join(output_dir, split, \"noisy\"), exist_ok=True)\n",
    "\n",
    "# Iterate through your data and assign each file to a split\n",
    "for root, dirs, files in os.walk(clean_speech_dir):\n",
    "    for file in files:\n",
    "        clean_audio_path = os.path.join(root, file)\n",
    "        noisy_audio_path = os.path.join(noisy_speech_dir, file)  # Assuming the noisy data has the same file names\n",
    "\n",
    "        # Randomly assign the file to a split\n",
    "        split_choice = random.random()\n",
    "        if split_choice < train_ratio:\n",
    "            split = \"train\"\n",
    "        elif split_choice < train_ratio + validation_ratio:\n",
    "            split = \"validation\"\n",
    "        else:\n",
    "            split = \"test\"\n",
    "\n",
    "        # Move the clean and noisy audio to the corresponding split directory\n",
    "        clean_output_path = os.path.join(output_dir, split, \"clean\", file)\n",
    "        noisy_output_path = os.path.join(output_dir, split, \"noisy\", file)\n",
    "        \n",
    "        shutil.copy(clean_audio_path, clean_output_path)\n",
    "        shutil.copy(noisy_audio_path, noisy_output_path)\n",
    "\n",
    "print(\"Data splitting and organization complete.\")\n"
   ]
  }
 ],
 "metadata": {
  "kernelspec": {
   "display_name": "Python 3 (ipykernel)",
   "language": "python",
   "name": "python3"
  },
  "language_info": {
   "codemirror_mode": {
    "name": "ipython",
    "version": 3
   },
   "file_extension": ".py",
   "mimetype": "text/x-python",
   "name": "python",
   "nbconvert_exporter": "python",
   "pygments_lexer": "ipython3",
   "version": "3.9.13"
  }
 },
 "nbformat": 4,
 "nbformat_minor": 5
}
